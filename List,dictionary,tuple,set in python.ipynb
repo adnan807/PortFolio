{
 "cells": [
  {
   "cell_type": "markdown",
   "id": "049c916f",
   "metadata": {},
   "source": [
    "## Some Data Structures in Python"
   ]
  },
  {
   "cell_type": "markdown",
   "id": "50f25ad9",
   "metadata": {},
   "source": [
    "## List\n",
    "- can be multilpe values\n",
    "- can be hetrognious\n",
    "- mutable"
   ]
  },
  {
   "cell_type": "code",
   "execution_count": 3,
   "id": "d6d34c49",
   "metadata": {},
   "outputs": [
    {
     "name": "stdout",
     "output_type": "stream",
     "text": [
      "[1, 2, 3, 4]\n"
     ]
    }
   ],
   "source": [
    "list=[1,2,3,4]\n",
    "print(list)"
   ]
  },
  {
   "cell_type": "code",
   "execution_count": 28,
   "id": "b7cacd53",
   "metadata": {},
   "outputs": [
    {
     "name": "stdout",
     "output_type": "stream",
     "text": [
      "[1, 'name', 3, True, 4]\n",
      "[1, 'name', 3, True, 4, 1, 2, 3]\n",
      "['name', 3, True, 4, 1, 2, 3]\n",
      "['name', 3, 4, 1, 2, 3]\n",
      "['name', 3, 2, 4, 1, 2, 3]\n"
     ]
    }
   ],
   "source": [
    "list=[1,'name',3,True]#hetrogenious\n",
    "list.append(4)#to insert single value\n",
    "print(list)\n",
    "list.extend([1,2,3])#to enter multiple values\n",
    "print(list)\n",
    "list.remove(1)\n",
    "print(list)\n",
    "list.pop(2)\n",
    "print(list)\n",
    "list.insert(2,2)\n",
    "print(list)"
   ]
  },
  {
   "cell_type": "code",
   "execution_count": 29,
   "id": "70ecb4e8",
   "metadata": {},
   "outputs": [
    {
     "name": "stdout",
     "output_type": "stream",
     "text": [
      "[2, 4, 1]\n"
     ]
    }
   ],
   "source": [
    "print(list[2:5])#: slicing operator"
   ]
  },
  {
   "cell_type": "markdown",
   "id": "d66d7e98",
   "metadata": {},
   "source": [
    "## Tuple\n",
    "- can be multilpe values\n",
    "- can be hetrognious\n",
    "- not mutable means not changeable/we can not add del or update items in tuple\n"
   ]
  },
  {
   "cell_type": "code",
   "execution_count": 37,
   "id": "dd354684",
   "metadata": {},
   "outputs": [
    {
     "name": "stdout",
     "output_type": "stream",
     "text": [
      "(1, 'name', 3, True)\n",
      "(3, True)\n"
     ]
    }
   ],
   "source": [
    "tuple=(1,'name',3,True)#hetrogenious\n",
    "print(tuple)\n",
    "print(tuple[2:4])\n",
    "#tuple.append(4)#not muteable\n",
    "#tuple.extend([1,2,3])#not muteable\n",
    "#tuple.remove(1)#not muteable\n",
    "#tuple.pop(2)#not muteable\n",
    "#tuple.insert(2,2)#not muteable\n"
   ]
  },
  {
   "cell_type": "markdown",
   "id": "9fec012b",
   "metadata": {},
   "source": [
    "## Dictionaries\n",
    "- Used to store key value pair data that is not storeable in list\n",
    "- Muteable"
   ]
  },
  {
   "cell_type": "code",
   "execution_count": 39,
   "id": "205c05a9",
   "metadata": {},
   "outputs": [
    {
     "data": {
      "text/plain": [
       "'Muhammad'"
      ]
     },
     "execution_count": 39,
     "metadata": {},
     "output_type": "execute_result"
    }
   ],
   "source": [
    "dict={\n",
    "    \"Fname\":'Muhammad',\n",
    "    \"Lname\":'Muhammad',\n",
    "    \"Marks\":[12,13,1415,121]\n",
    "}\n",
    "dict['Fname']"
   ]
  },
  {
   "cell_type": "markdown",
   "id": "c5176c3d",
   "metadata": {},
   "source": [
    "## Sets\n",
    "- Unique means will not print repeating values\n",
    "- Unorder 'means in which order we enter values it will nat print in that order'"
   ]
  },
  {
   "cell_type": "code",
   "execution_count": 44,
   "id": "8ba50a9b",
   "metadata": {},
   "outputs": [
    {
     "name": "stdout",
     "output_type": "stream",
     "text": [
      "{0, 1, 2, 3, 4, -1}\n"
     ]
    }
   ],
   "source": [
    "set={2,1,4,3,0,-1,0,1,2}\n",
    "print(set)"
   ]
  },
  {
   "cell_type": "code",
   "execution_count": 55,
   "id": "e69604fb",
   "metadata": {},
   "outputs": [
    {
     "data": {
      "text/plain": [
       "{3, 4}"
      ]
     },
     "execution_count": 55,
     "metadata": {},
     "output_type": "execute_result"
    }
   ],
   "source": [
    "set2={-1,0,1,2}\n",
    "set.intersection(set2)#Gives common values in 2 sets\n",
    "set.union(set2)#Gives common values in 2 sets\n",
    "set-set2"
   ]
  },
  {
   "cell_type": "markdown",
   "id": "675fece4",
   "metadata": {},
   "source": [
    "## String\n"
   ]
  }
 ],
 "metadata": {
  "kernelspec": {
   "display_name": "Python 3 (ipykernel)",
   "language": "python",
   "name": "python3"
  },
  "language_info": {
   "codemirror_mode": {
    "name": "ipython",
    "version": 3
   },
   "file_extension": ".py",
   "mimetype": "text/x-python",
   "name": "python",
   "nbconvert_exporter": "python",
   "pygments_lexer": "ipython3",
   "version": "3.9.12"
  }
 },
 "nbformat": 4,
 "nbformat_minor": 5
}
