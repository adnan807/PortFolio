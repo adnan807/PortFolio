{
 "cells": [
  {
   "cell_type": "markdown",
   "id": "6e8b5b6d",
   "metadata": {},
   "source": [
    "## Enter command Mode\n",
    "- a.Enter cell below\n",
    "- a.Enter cell below\n",
    "- d,d delete cell\n",
    "- m.convert cell to markdown\n",
    "- x.for cut cell\n",
    "- v.for paste cell\n",
    "- **keyboard button on task bar for shortcuts**"
   ]
  },
  {
   "cell_type": "code",
   "execution_count": 9,
   "id": "47f676a9",
   "metadata": {},
   "outputs": [
    {
     "name": "stdout",
     "output_type": "stream",
     "text": [
      "hello my name is \"Adnan\"\n",
      "hello my name is 'Adnan'\n",
      "hello my name is 'Adnan'\n",
      "hello my  name  is Adnan\n"
     ]
    }
   ],
   "source": [
    "print('hello my name is \"Adnan\"')\n",
    "print(\"hello my name is 'Adnan'\")\n",
    "print('hello my name is \\'Adnan\\'')#\\' read this as text\n",
    "print(\"hello\", 'my',' name',' is' ,'Adnan')"
   ]
  },
  {
   "cell_type": "code",
   "execution_count": 14,
   "id": "e6501167",
   "metadata": {
    "scrolled": false
   },
   "outputs": [],
   "source": [
    "name='adnan'"
   ]
  },
  {
   "cell_type": "code",
   "execution_count": 17,
   "id": "d38a18db",
   "metadata": {},
   "outputs": [
    {
     "data": {
      "text/plain": [
       "'adnan'"
      ]
     },
     "execution_count": 17,
     "metadata": {},
     "output_type": "execute_result"
    }
   ],
   "source": [
    "name"
   ]
  },
  {
   "cell_type": "code",
   "execution_count": 18,
   "id": "8b532417",
   "metadata": {},
   "outputs": [
    {
     "name": "stdout",
     "output_type": "stream",
     "text": [
      "My nazme is  Rix\n"
     ]
    }
   ],
   "source": [
    "name='Rix'\n",
    "print('My nazme is ',name)"
   ]
  },
  {
   "cell_type": "code",
   "execution_count": 20,
   "id": "52dfcd66",
   "metadata": {},
   "outputs": [
    {
     "data": {
      "text/plain": [
       "12"
      ]
     },
     "execution_count": 20,
     "metadata": {},
     "output_type": "execute_result"
    }
   ],
   "source": [
    "True+10+True"
   ]
  },
  {
   "cell_type": "code",
   "execution_count": 21,
   "id": "878e0995",
   "metadata": {},
   "outputs": [
    {
     "data": {
      "text/plain": [
       "100"
      ]
     },
     "execution_count": 21,
     "metadata": {},
     "output_type": "execute_result"
    }
   ],
   "source": [
    "10**2#10's power 2"
   ]
  },
  {
   "cell_type": "code",
   "execution_count": 22,
   "id": "794207a2",
   "metadata": {},
   "outputs": [
    {
     "data": {
      "text/plain": [
       "10"
      ]
     },
     "execution_count": 22,
     "metadata": {},
     "output_type": "execute_result"
    }
   ],
   "source": [
    "int (10.7)#type casting"
   ]
  },
  {
   "cell_type": "code",
   "execution_count": 23,
   "id": "23649a42",
   "metadata": {},
   "outputs": [
    {
     "data": {
      "text/plain": [
       "3.3333333333333335"
      ]
     },
     "execution_count": 23,
     "metadata": {},
     "output_type": "execute_result"
    }
   ],
   "source": [
    "10/3"
   ]
  },
  {
   "cell_type": "code",
   "execution_count": 24,
   "id": "96194961",
   "metadata": {},
   "outputs": [
    {
     "data": {
      "text/plain": [
       "3"
      ]
     },
     "execution_count": 24,
     "metadata": {},
     "output_type": "execute_result"
    }
   ],
   "source": [
    "10//3#ignore decimal part"
   ]
  },
  {
   "cell_type": "code",
   "execution_count": 26,
   "id": "3e3319b4",
   "metadata": {},
   "outputs": [
    {
     "name": "stdout",
     "output_type": "stream",
     "text": [
      "fail putr\n"
     ]
    }
   ],
   "source": [
    "marks=20\n",
    "if marks>30 and marks<=40:\n",
    "    print(\"pass\")\n",
    "elif marks<30:\n",
    "    print(\"fail putr\")\n",
    "elif marks>40 and marks<=80:\n",
    "    print(\"chaa gya\")\n",
    "else:\n",
    "    print('ja tur ja')"
   ]
  },
  {
   "cell_type": "code",
   "execution_count": 30,
   "id": "8b9cd431",
   "metadata": {},
   "outputs": [
    {
     "name": "stdout",
     "output_type": "stream",
     "text": [
      "0 hello\n",
      "1 hello\n",
      "2 hello\n",
      "3 hello\n",
      "4 hello\n"
     ]
    }
   ],
   "source": [
    "for i in range(0,5):\n",
    "    print(i,\"hello\")"
   ]
  },
  {
   "cell_type": "code",
   "execution_count": 31,
   "id": "a9dbdd1d",
   "metadata": {},
   "outputs": [
    {
     "name": "stdout",
     "output_type": "stream",
     "text": [
      "0 hello\n",
      "2 hello\n",
      "4 hello\n"
     ]
    }
   ],
   "source": [
    "for i in range(0,5,2):\n",
    "    print(i,\"hello\")"
   ]
  },
  {
   "cell_type": "code",
   "execution_count": 37,
   "id": "0f8e1cc9",
   "metadata": {},
   "outputs": [],
   "source": [
    "def add():\n",
    "    res=10+1\n",
    "    print(res)\n",
    "    return res\n"
   ]
  },
  {
   "cell_type": "code",
   "execution_count": 38,
   "id": "f9e495d7",
   "metadata": {},
   "outputs": [
    {
     "name": "stdout",
     "output_type": "stream",
     "text": [
      "11\n",
      "11\n"
     ]
    }
   ],
   "source": [
    "r=add()\n",
    "print(r)"
   ]
  },
  {
   "cell_type": "code",
   "execution_count": null,
   "id": "b8182d5f",
   "metadata": {},
   "outputs": [],
   "source": []
  }
 ],
 "metadata": {
  "kernelspec": {
   "display_name": "Python 3 (ipykernel)",
   "language": "python",
   "name": "python3"
  },
  "language_info": {
   "codemirror_mode": {
    "name": "ipython",
    "version": 3
   },
   "file_extension": ".py",
   "mimetype": "text/x-python",
   "name": "python",
   "nbconvert_exporter": "python",
   "pygments_lexer": "ipython3",
   "version": "3.9.12"
  }
 },
 "nbformat": 4,
 "nbformat_minor": 5
}
