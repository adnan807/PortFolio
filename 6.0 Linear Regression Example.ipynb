{
 "cells": [
  {
   "cell_type": "code",
   "execution_count": 1,
   "id": "23705272",
   "metadata": {},
   "outputs": [],
   "source": [
    "sqrt=[[500],[1500],[2500]]\n",
    "price=[25,75,125]"
   ]
  },
  {
   "cell_type": "code",
   "execution_count": 2,
   "id": "066cfc56",
   "metadata": {},
   "outputs": [
    {
     "data": {
      "text/plain": [
       "LinearRegression()"
      ]
     },
     "execution_count": 2,
     "metadata": {},
     "output_type": "execute_result"
    }
   ],
   "source": [
    "from sklearn.linear_model import LinearRegression\n",
    "model=LinearRegression()\n",
    "model.fit(sqrt,price)"
   ]
  },
  {
   "cell_type": "code",
   "execution_count": 3,
   "id": "53fe4642",
   "metadata": {},
   "outputs": [
    {
     "data": {
      "text/plain": [
       "0.0"
      ]
     },
     "execution_count": 3,
     "metadata": {},
     "output_type": "execute_result"
    }
   ],
   "source": [
    "model.intercept_ #Y-Intercept in line equation means c value"
   ]
  },
  {
   "cell_type": "code",
   "execution_count": 4,
   "id": "5fe46264",
   "metadata": {},
   "outputs": [
    {
     "data": {
      "text/plain": [
       "array([0.05])"
      ]
     },
     "execution_count": 4,
     "metadata": {},
     "output_type": "execute_result"
    }
   ],
   "source": [
    "model.coef_ # slope in line equation means valye of m"
   ]
  },
  {
   "cell_type": "code",
   "execution_count": null,
   "id": "588e5f49",
   "metadata": {},
   "outputs": [],
   "source": []
  }
 ],
 "metadata": {
  "kernelspec": {
   "display_name": "Python 3 (ipykernel)",
   "language": "python",
   "name": "python3"
  },
  "language_info": {
   "codemirror_mode": {
    "name": "ipython",
    "version": 3
   },
   "file_extension": ".py",
   "mimetype": "text/x-python",
   "name": "python",
   "nbconvert_exporter": "python",
   "pygments_lexer": "ipython3",
   "version": "3.9.12"
  }
 },
 "nbformat": 4,
 "nbformat_minor": 5
}
