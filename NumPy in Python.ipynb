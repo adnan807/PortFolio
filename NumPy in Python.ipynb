{
 "cells": [
  {
   "cell_type": "markdown",
   "id": "eb413a04",
   "metadata": {},
   "source": [
    "## Note\n",
    "- When we are talking about python library means it is code written by someone else such as \"**numpy library**\""
   ]
  },
  {
   "cell_type": "markdown",
   "id": "549d5163",
   "metadata": {},
   "source": [
    "## Numpy\n",
    "- Huge and effieient number manipulation"
   ]
  },
  {
   "cell_type": "code",
   "execution_count": 61,
   "id": "38aa980a",
   "metadata": {},
   "outputs": [
    {
     "data": {
      "text/plain": [
       "array([ 0,  1,  2,  3,  4,  5,  6,  7,  8,  9, 10, 11, 12, 13, 14, 15, 16,\n",
       "       17, 18, 19, 20, 21, 22, 23, 24, 25, 26, 27, 28, 29, 30, 31, 32, 33,\n",
       "       34, 35, 36, 37, 38, 39, 40, 41, 42, 43, 44, 45, 46, 47, 48, 49, 50,\n",
       "       51, 52, 53, 54, 55, 56, 57, 58, 59, 60, 61, 62, 63, 64, 65, 66, 67,\n",
       "       68, 69, 70, 71, 72, 73, 74, 75, 76, 77, 78, 79, 80, 81, 82, 83, 84,\n",
       "       85, 86, 87, 88, 89, 90, 91, 92, 93, 94, 95, 96, 97, 98, 99])"
      ]
     },
     "execution_count": 61,
     "metadata": {},
     "output_type": "execute_result"
    }
   ],
   "source": [
    "import numpy as np\n",
    "x=np.arange(100)\n",
    "x"
   ]
  },
  {
   "cell_type": "code",
   "execution_count": 73,
   "id": "d73091c0",
   "metadata": {
    "scrolled": true
   },
   "outputs": [
    {
     "data": {
      "text/plain": [
       "array([ 0,  1,  2,  3,  4,  5,  6,  7,  8,  9, 10, 11, 12, 13, 14, 15, 16,\n",
       "       17, 18, 19, 20, 21, 22, 23, 24, 25, 26, 27, 28, 29, 30, 31, 32, 33,\n",
       "       34, 35, 36, 37, 38, 39, 40, 41, 42, 43, 44, 45, 46, 47, 48, 49, 50,\n",
       "       51, 52, 53, 54, 55, 56, 57, 58, 59, 60, 61, 62, 63, 64, 65, 66, 67,\n",
       "       68, 69, 70, 71, 72, 73, 74, 75, 76, 77, 78, 79, 80, 81, 82, 83, 84,\n",
       "       85, 86, 87, 88, 89, 90, 91, 92, 93, 94, 95, 96, 97, 98, 99])"
      ]
     },
     "execution_count": 73,
     "metadata": {},
     "output_type": "execute_result"
    }
   ],
   "source": [
    "x=np.arange(100)\n",
    "x"
   ]
  },
  {
   "cell_type": "code",
   "execution_count": 78,
   "id": "29583d52",
   "metadata": {
    "scrolled": true
   },
   "outputs": [
    {
     "data": {
      "text/plain": [
       "array([   0,  100,  200,  300,  400,  500,  600,  700,  800,  900, 1000,\n",
       "       1100, 1200, 1300, 1400, 1500, 1600, 1700, 1800, 1900, 2000, 2100,\n",
       "       2200, 2300, 2400, 2500, 2600, 2700, 2800, 2900, 3000, 3100, 3200,\n",
       "       3300, 3400, 3500, 3600, 3700, 3800, 3900, 4000, 4100, 4200, 4300,\n",
       "       4400, 4500, 4600, 4700, 4800, 4900, 5000, 5100, 5200, 5300, 5400,\n",
       "       5500, 5600, 5700, 5800, 5900, 6000, 6100, 6200, 6300, 6400, 6500,\n",
       "       6600, 6700, 6800, 6900, 7000, 7100, 7200, 7300, 7400, 7500, 7600,\n",
       "       7700, 7800, 7900, 8000, 8100, 8200, 8300, 8400, 8500, 8600, 8700,\n",
       "       8800, 8900, 9000, 9100, 9200, 9300, 9400, 9500, 9600, 9700, 9800,\n",
       "       9900])"
      ]
     },
     "execution_count": 78,
     "metadata": {},
     "output_type": "execute_result"
    }
   ],
   "source": [
    "x*100#only possible in numpy huge manipulation**power of numpy**x/5"
   ]
  },
  {
   "cell_type": "markdown",
   "id": "91339194",
   "metadata": {},
   "source": [
    "## Numpy Array\n",
    "- Homogenious datatype"
   ]
  },
  {
   "cell_type": "code",
   "execution_count": 80,
   "id": "848170e9",
   "metadata": {},
   "outputs": [
    {
     "data": {
      "text/plain": [
       "array([ 1,  2, 43,  6,  4])"
      ]
     },
     "execution_count": 80,
     "metadata": {},
     "output_type": "execute_result"
    }
   ],
   "source": [
    "y=np.array([1,2,43,6,4])\n",
    "y"
   ]
  },
  {
   "cell_type": "markdown",
   "id": "34964b93",
   "metadata": {},
   "source": [
    "## Note\n",
    "- if we have a single floating point value than whole array will be converterd into float"
   ]
  },
  {
   "cell_type": "code",
   "execution_count": 81,
   "id": "1651f838",
   "metadata": {},
   "outputs": [
    {
     "data": {
      "text/plain": [
       "array([ 1.1,  2.1, 43. ,  6.1,  4.1])"
      ]
     },
     "execution_count": 81,
     "metadata": {},
     "output_type": "execute_result"
    }
   ],
   "source": [
    "y=np.array([1.1,2.1,43,6.1,4.1])\n",
    "y"
   ]
  },
  {
   "cell_type": "code",
   "execution_count": 82,
   "id": "b2534d2b",
   "metadata": {},
   "outputs": [
    {
     "data": {
      "text/plain": [
       "5"
      ]
     },
     "execution_count": 82,
     "metadata": {},
     "output_type": "execute_result"
    }
   ],
   "source": [
    "y.dtype\n",
    "y.size"
   ]
  },
  {
   "cell_type": "code",
   "execution_count": 83,
   "id": "5827b1ef",
   "metadata": {},
   "outputs": [
    {
     "data": {
      "text/plain": [
       "array([0, 1, 2, 3, 4, 5, 6, 7, 8, 9])"
      ]
     },
     "execution_count": 83,
     "metadata": {},
     "output_type": "execute_result"
    }
   ],
   "source": [
    "arr=np.arange(0,10)\n",
    "arr"
   ]
  },
  {
   "cell_type": "code",
   "execution_count": 84,
   "id": "ca4d379c",
   "metadata": {},
   "outputs": [
    {
     "data": {
      "text/plain": [
       "dtype('int32')"
      ]
     },
     "execution_count": 84,
     "metadata": {},
     "output_type": "execute_result"
    }
   ],
   "source": [
    "arr.dtype"
   ]
  },
  {
   "cell_type": "markdown",
   "id": "990e2976",
   "metadata": {},
   "source": [
    "## Multidimentional array"
   ]
  },
  {
   "cell_type": "code",
   "execution_count": 87,
   "id": "56adf921",
   "metadata": {},
   "outputs": [
    {
     "data": {
      "text/plain": [
       "1"
      ]
     },
     "execution_count": 87,
     "metadata": {},
     "output_type": "execute_result"
    }
   ],
   "source": [
    "#import numpy as np\n",
    "aar7=np.array([1,2,3])\n",
    "aar7.ndim"
   ]
  },
  {
   "cell_type": "code",
   "execution_count": 88,
   "id": "61d9bbd8",
   "metadata": {},
   "outputs": [
    {
     "data": {
      "text/plain": [
       "2"
      ]
     },
     "execution_count": 88,
     "metadata": {},
     "output_type": "execute_result"
    }
   ],
   "source": [
    "arr8=np.array([[1,2,3],[4,5,6]])\n",
    "arr8.ndim"
   ]
  },
  {
   "cell_type": "code",
   "execution_count": 133,
   "id": "0a9b9d6d",
   "metadata": {},
   "outputs": [
    {
     "data": {
      "text/plain": [
       "array([[[1, 3, 2],\n",
       "        [4, 5, 6],\n",
       "        [7, 8, 9]]])"
      ]
     },
     "execution_count": 133,
     "metadata": {},
     "output_type": "execute_result"
    }
   ],
   "source": [
    "## Internal array should contain same mxn didentions\n",
    "arr9=np.array([[[1,3,2],[4,5,6],[7,8,9]]])\n",
    "arr9"
   ]
  },
  {
   "cell_type": "code",
   "execution_count": 121,
   "id": "0a791a76",
   "metadata": {},
   "outputs": [
    {
     "data": {
      "text/plain": [
       "3"
      ]
     },
     "execution_count": 121,
     "metadata": {},
     "output_type": "execute_result"
    }
   ],
   "source": [
    "arr9=np.array([[[1,2,3],[4,5,6],[7,8,9]]])\n",
    "arr9.ndim"
   ]
  },
  {
   "cell_type": "code",
   "execution_count": 135,
   "id": "ce258571",
   "metadata": {
    "scrolled": true
   },
   "outputs": [
    {
     "name": "stdout",
     "output_type": "stream",
     "text": [
      "(2, 2, 3)\n",
      "12\n",
      "3\n",
      "int32\n"
     ]
    },
    {
     "data": {
      "text/plain": [
       "array([[[1, 3, 2],\n",
       "        [4, 5, 6]],\n",
       "\n",
       "       [[7, 8, 9],\n",
       "        [7, 8, 9]]])"
      ]
     },
     "execution_count": 135,
     "metadata": {},
     "output_type": "execute_result"
    }
   ],
   "source": [
    "arr10=np.array([[[1,3,2],[4,5,6]],[[7,8,9],[7,8,9]]])\n",
    "print(arr10.shape)#(2, 2, 3),(internal arrays,internal array further,internal array,values in each array )\n",
    "print(arr10.size)\n",
    "print(arr10.ndim)\n",
    "print(arr10.dtype)\n",
    "arr10"
   ]
  },
  {
   "cell_type": "code",
   "execution_count": 147,
   "id": "3893b401",
   "metadata": {},
   "outputs": [
    {
     "data": {
      "text/plain": [
       "array([[[ 0,  1,  2,  3,  4],\n",
       "        [ 5,  6,  7,  8,  9],\n",
       "        [10, 11, 12, 13, 14]],\n",
       "\n",
       "       [[15, 16, 17, 18, 19],\n",
       "        [20, 21, 22, 23, 24],\n",
       "        [25, 26, 27, 28, 29]]])"
      ]
     },
     "execution_count": 147,
     "metadata": {},
     "output_type": "execute_result"
    }
   ],
   "source": [
    "x=np.arange(30)#np.zero(10),np.one(10)\n",
    "\n",
    "x=x.reshape(2,3,5)#x=x.reshape(2,3)2 internal arrays with 3 elements in each\n",
    "\n",
    "x"
   ]
  },
  {
   "cell_type": "code",
   "execution_count": 159,
   "id": "2f6c0c91",
   "metadata": {},
   "outputs": [
    {
     "name": "stdout",
     "output_type": "stream",
     "text": [
      "[30 35 40 45]\n",
      "[0. 0. 0. 0. 0. 0. 0. 0. 0. 0.] [1. 1. 1. 1. 1. 1. 1. 1. 1. 1.]\n"
     ]
    },
    {
     "data": {
      "text/plain": [
       "array([[1, 1, 1, 1, 1],\n",
       "       [1, 1, 1, 1, 1]])"
      ]
     },
     "execution_count": 159,
     "metadata": {},
     "output_type": "execute_result"
    }
   ],
   "source": [
    "x=np.arange(30,50,5)#(starting include,ending exclude,each element with ddition)\n",
    "print(x)\n",
    "print(np.zeros(10),np.ones(10))\n",
    "np.ones(10).reshape(2,5).astype('int')"
   ]
  },
  {
   "cell_type": "code",
   "execution_count": 164,
   "id": "43cb3cd3",
   "metadata": {},
   "outputs": [
    {
     "data": {
      "text/plain": [
       "array([1, 3, 2, 4, 5, 6, 7, 8, 9])"
      ]
     },
     "execution_count": 164,
     "metadata": {},
     "output_type": "execute_result"
    }
   ],
   "source": [
    "#arr9=np.array([[[1,2,3],[4,5,6],[7,8,9]]])\n",
    "arr9.ravel()#convert ndim into 1 dimentional array"
   ]
  },
  {
   "cell_type": "code",
   "execution_count": 166,
   "id": "6effebbd",
   "metadata": {},
   "outputs": [
    {
     "data": {
      "text/plain": [
       "'C:\\\\Users\\\\DANI\\\\Jupyter Programs'"
      ]
     },
     "execution_count": 166,
     "metadata": {},
     "output_type": "execute_result"
    }
   ],
   "source": [
    "\n",
    "pwd#present working directory"
   ]
  }
 ],
 "metadata": {
  "kernelspec": {
   "display_name": "Python 3 (ipykernel)",
   "language": "python",
   "name": "python3"
  },
  "language_info": {
   "codemirror_mode": {
    "name": "ipython",
    "version": 3
   },
   "file_extension": ".py",
   "mimetype": "text/x-python",
   "name": "python",
   "nbconvert_exporter": "python",
   "pygments_lexer": "ipython3",
   "version": "3.9.12"
  }
 },
 "nbformat": 4,
 "nbformat_minor": 5
}
